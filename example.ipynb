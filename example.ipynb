{
 "cells": [
  {
   "cell_type": "code",
   "execution_count": 1,
   "metadata": {},
   "outputs": [],
   "source": [
    "import matplotlib.pyplot as plt\n",
    "import numpy as np\n",
    "import pyhyrec as pyhy\n",
    "\n",
    "%matplotlib inline"
   ]
  },
  {
   "cell_type": "code",
   "execution_count": 37,
   "metadata": {},
   "outputs": [],
   "source": [
    "# create a default cosmo params and injection params object\n",
    "cosmo = pyhy.HyRecCosmoParams()\n",
    "inj  = pyhy.HyRecInjectionParams()\n",
    "\n",
    "z, xe, Tm = pyhy.call_run_hyrec(cosmo(), inj())"
   ]
  },
  {
   "cell_type": "code",
   "execution_count": 44,
   "metadata": {},
   "outputs": [],
   "source": [
    "# create a  cosmo params and injection params object\n",
    "inj_pbh  = pyhy.HyRecInjectionParams({'fpbh' : 1.0, 'Mpbh': 1e+3})\n",
    "\n",
    "z_pbh, xe_pbh, Tm_pbh = pyhy.call_run_hyrec(cosmo(), inj_pbh())"
   ]
  },
  {
   "cell_type": "code",
   "execution_count": 45,
   "metadata": {},
   "outputs": [],
   "source": [
    "# load data for comparisons to the precomputed default case\n",
    "data = np.loadtxt(\"./tests/output_xe.dat\")\n",
    "\n",
    "z_c = np.flip(data[:, 0])\n",
    "xe_c = np.flip(data[:, 1])\n",
    "Tm_c = np.flip(data[:, 2])"
   ]
  },
  {
   "cell_type": "code",
   "execution_count": null,
   "metadata": {},
   "outputs": [],
   "source": [
    "# plotting xe\n",
    "fig = plt.figure()\n",
    "ax = fig.gca()\n",
    "\n",
    "ax.plot(z, xe, '-b', label='without pbh')\n",
    "ax.plot(z_pbh, xe_pbh, '-r', label='with pbh')\n",
    "ax.plot(z_c, xe_c, 'c-.',  label='without pbh (default)')\n",
    "\n",
    "ax.set_xscale(\"log\")\n",
    "ax.set_yscale(\"log\")\n",
    "ax.set_ylabel('xe')\n",
    "ax.set_xlabel('z')\n",
    "ax.legend()"
   ]
  },
  {
   "cell_type": "code",
   "execution_count": null,
   "metadata": {},
   "outputs": [],
   "source": [
    "# plotting Tm\n",
    "fig = plt.figure()\n",
    "ax = fig.gca()\n",
    "\n",
    "ax.plot(z, Tm, '-b', label='without pbh')\n",
    "ax.plot(z_pbh, Tm_pbh, '-r', label='with pbh')\n",
    "ax.plot(z_c, Tm_c, 'c-.',  label='without pbh (default)')\n",
    "ax.plot(z, cosmo.T0 * (1+z), color='k', linestyle=':', label='CMB temp.')\n",
    "\n",
    "ax.set_xscale(\"log\")\n",
    "ax.set_yscale(\"log\")\n",
    "ax.set_ylabel('Tm [K]')\n",
    "ax.set_xlabel('z')\n",
    "ax.legend()"
   ]
  }
 ],
 "metadata": {
  "kernelspec": {
   "display_name": "hyrec_py",
   "language": "python",
   "name": "python3"
  },
  "language_info": {
   "codemirror_mode": {
    "name": "ipython",
    "version": 3
   },
   "file_extension": ".py",
   "mimetype": "text/x-python",
   "name": "python",
   "nbconvert_exporter": "python",
   "pygments_lexer": "ipython3",
   "version": "3.10.13"
  }
 },
 "nbformat": 4,
 "nbformat_minor": 2
}
